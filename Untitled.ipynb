{
 "cells": [
  {
   "cell_type": "markdown",
   "id": "6e635e38-f1dd-4767-954c-991195b4bc90",
   "metadata": {},
   "source": [
    "# Heading"
   ]
  },
  {
   "cell_type": "markdown",
   "id": "7d0adb06-3d46-44f2-9908-5b75603e20d5",
   "metadata": {},
   "source": [
    "# Bussiness Problem"
   ]
  },
  {
   "cell_type": "markdown",
   "id": "f0fedd6d-3f72-44d8-900a-d7876f7613b0",
   "metadata": {},
   "source": [
    "## Importing all Required Libraries"
   ]
  },
  {
   "cell_type": "code",
   "execution_count": 2,
   "id": "8e7130a9-c2db-465f-8e3c-85e538399e05",
   "metadata": {},
   "outputs": [],
   "source": [
    "# import packages\n",
    "import pandas as pd\n",
    "import numpy as np\n",
    "from sklearn.tree import DecisionTreeClassifier\n",
    "import matplotlib.pyplot as pltB\n",
    "from sklearn.metrics import confusion_matrix, accuracy_score, precision_score ,f1_score,classification_report, make_scorer,recall_score\n",
    "from sklearn.preprocessing import OrdinalEncoder\n",
    "from sklearn.preprocessing import LabelEncoder\n",
    "from sklearn.preprocessing import OneHotEncoder\n",
    "import matplotlib.pyplot as plt\n",
    "import seaborn as sns\n",
    "from sklearn.model_selection import train_test_split\n",
    "from sklearn.neighbors import KNeighborsClassifier\n",
    "from sklearn.tree import plot_tree\n",
    "import matplotlib.pyplot as plt\n",
    "from sklearn.tree import export_text\n",
    "from sklearn.utils import resample\n",
    "from sklearn import preprocessing\n",
    "from xgboost import XGBClassifier\n",
    "from sklearn.linear_model import LogisticRegression\n",
    "from sklearn.model_selection import train_test_split, cross_val_score, GridSearchCV\n",
    "from imblearn.over_sampling import RandomOverSampler\n",
    "from sklearn.model_selection import GridSearchCV, RandomizedSearchCV\n",
    "from xgboost import XGBClassifier\n",
    "from sklearn.ensemble import RandomForestClassifier, GradientBoostingClassifier, AdaBoostClassifier\n",
    "from imblearn.over_sampling import RandomOverSampler"
   ]
  },
  {
   "cell_type": "markdown",
   "id": "de5e0bec-9c79-4ae3-a380-ae254f01ec2c",
   "metadata": {},
   "source": [
    "## Loading the dataset"
   ]
  },
  {
   "cell_type": "code",
   "execution_count": 29,
   "id": "65ff7ea9-6e17-4d39-bbf6-f9b0a4018623",
   "metadata": {},
   "outputs": [],
   "source": [
    "df = pd.read_csv('Data.csv') #loading data"
   ]
  },
  {
   "cell_type": "markdown",
   "id": "fcd2055e-6adf-4067-986a-9e7f68b92aba",
   "metadata": {},
   "source": [
    "## Explore the dataset"
   ]
  },
  {
   "cell_type": "code",
   "execution_count": 30,
   "id": "9803fbe3-ec69-4c5f-a9dc-ddc800ab5160",
   "metadata": {},
   "outputs": [
    {
     "data": {
      "text/html": [
       "<div>\n",
       "<style scoped>\n",
       "    .dataframe tbody tr th:only-of-type {\n",
       "        vertical-align: middle;\n",
       "    }\n",
       "\n",
       "    .dataframe tbody tr th {\n",
       "        vertical-align: top;\n",
       "    }\n",
       "\n",
       "    .dataframe thead th {\n",
       "        text-align: right;\n",
       "    }\n",
       "</style>\n",
       "<table border=\"1\" class=\"dataframe\">\n",
       "  <thead>\n",
       "    <tr style=\"text-align: right;\">\n",
       "      <th></th>\n",
       "      <th>Age</th>\n",
       "      <th>Workclass</th>\n",
       "      <th>fnlwgt</th>\n",
       "      <th>Education</th>\n",
       "      <th>Education-Num</th>\n",
       "      <th>Marital-Status</th>\n",
       "      <th>Occupation</th>\n",
       "      <th>Relationship</th>\n",
       "      <th>Race</th>\n",
       "      <th>Sex</th>\n",
       "      <th>Capital-Gain</th>\n",
       "      <th>Capital-Loss</th>\n",
       "      <th>Hours-Per-Week</th>\n",
       "      <th>Native-Country</th>\n",
       "      <th>Target</th>\n",
       "    </tr>\n",
       "  </thead>\n",
       "  <tbody>\n",
       "    <tr>\n",
       "      <th>0</th>\n",
       "      <td>39</td>\n",
       "      <td>State-gov</td>\n",
       "      <td>77516</td>\n",
       "      <td>Bachelors</td>\n",
       "      <td>13</td>\n",
       "      <td>Never-married</td>\n",
       "      <td>Adm-clerical</td>\n",
       "      <td>Not-in-family</td>\n",
       "      <td>White</td>\n",
       "      <td>Male</td>\n",
       "      <td>2174</td>\n",
       "      <td>0</td>\n",
       "      <td>40</td>\n",
       "      <td>United-States</td>\n",
       "      <td>&lt;=50K</td>\n",
       "    </tr>\n",
       "    <tr>\n",
       "      <th>1</th>\n",
       "      <td>50</td>\n",
       "      <td>Self-emp-not-inc</td>\n",
       "      <td>83311</td>\n",
       "      <td>Bachelors</td>\n",
       "      <td>13</td>\n",
       "      <td>Married-civ-spouse</td>\n",
       "      <td>Exec-managerial</td>\n",
       "      <td>Husband</td>\n",
       "      <td>White</td>\n",
       "      <td>Male</td>\n",
       "      <td>0</td>\n",
       "      <td>0</td>\n",
       "      <td>13</td>\n",
       "      <td>United-States</td>\n",
       "      <td>&lt;=50K</td>\n",
       "    </tr>\n",
       "    <tr>\n",
       "      <th>2</th>\n",
       "      <td>38</td>\n",
       "      <td>Private</td>\n",
       "      <td>215646</td>\n",
       "      <td>HS-grad</td>\n",
       "      <td>9</td>\n",
       "      <td>Divorced</td>\n",
       "      <td>Handlers-cleaners</td>\n",
       "      <td>Not-in-family</td>\n",
       "      <td>White</td>\n",
       "      <td>Male</td>\n",
       "      <td>0</td>\n",
       "      <td>0</td>\n",
       "      <td>40</td>\n",
       "      <td>United-States</td>\n",
       "      <td>&lt;=50K</td>\n",
       "    </tr>\n",
       "    <tr>\n",
       "      <th>3</th>\n",
       "      <td>53</td>\n",
       "      <td>Private</td>\n",
       "      <td>234721</td>\n",
       "      <td>11th</td>\n",
       "      <td>7</td>\n",
       "      <td>Married-civ-spouse</td>\n",
       "      <td>Handlers-cleaners</td>\n",
       "      <td>Husband</td>\n",
       "      <td>Black</td>\n",
       "      <td>Male</td>\n",
       "      <td>0</td>\n",
       "      <td>0</td>\n",
       "      <td>40</td>\n",
       "      <td>United-States</td>\n",
       "      <td>&lt;=50K</td>\n",
       "    </tr>\n",
       "    <tr>\n",
       "      <th>4</th>\n",
       "      <td>28</td>\n",
       "      <td>Private</td>\n",
       "      <td>338409</td>\n",
       "      <td>Bachelors</td>\n",
       "      <td>13</td>\n",
       "      <td>Married-civ-spouse</td>\n",
       "      <td>Prof-specialty</td>\n",
       "      <td>Wife</td>\n",
       "      <td>Black</td>\n",
       "      <td>Female</td>\n",
       "      <td>0</td>\n",
       "      <td>0</td>\n",
       "      <td>40</td>\n",
       "      <td>Cuba</td>\n",
       "      <td>&lt;=50K</td>\n",
       "    </tr>\n",
       "  </tbody>\n",
       "</table>\n",
       "</div>"
      ],
      "text/plain": [
       "   Age          Workclass  fnlwgt   Education  Education-Num   \n",
       "0   39          State-gov   77516   Bachelors             13  \\\n",
       "1   50   Self-emp-not-inc   83311   Bachelors             13   \n",
       "2   38            Private  215646     HS-grad              9   \n",
       "3   53            Private  234721        11th              7   \n",
       "4   28            Private  338409   Bachelors             13   \n",
       "\n",
       "        Marital-Status          Occupation    Relationship    Race      Sex   \n",
       "0        Never-married        Adm-clerical   Not-in-family   White     Male  \\\n",
       "1   Married-civ-spouse     Exec-managerial         Husband   White     Male   \n",
       "2             Divorced   Handlers-cleaners   Not-in-family   White     Male   \n",
       "3   Married-civ-spouse   Handlers-cleaners         Husband   Black     Male   \n",
       "4   Married-civ-spouse      Prof-specialty            Wife   Black   Female   \n",
       "\n",
       "   Capital-Gain  Capital-Loss  Hours-Per-Week  Native-Country  Target  \n",
       "0          2174             0              40   United-States   <=50K  \n",
       "1             0             0              13   United-States   <=50K  \n",
       "2             0             0              40   United-States   <=50K  \n",
       "3             0             0              40   United-States   <=50K  \n",
       "4             0             0              40            Cuba   <=50K  "
      ]
     },
     "execution_count": 30,
     "metadata": {},
     "output_type": "execute_result"
    }
   ],
   "source": [
    "df.head() "
   ]
  },
  {
   "cell_type": "code",
   "execution_count": 31,
   "id": "ad6da094-4c9c-45aa-955e-e293542ee851",
   "metadata": {},
   "outputs": [
    {
     "data": {
      "text/plain": [
       "(48842, 15)"
      ]
     },
     "execution_count": 31,
     "metadata": {},
     "output_type": "execute_result"
    }
   ],
   "source": [
    "df.shape # checking number of rows and columns"
   ]
  },
  {
   "cell_type": "code",
   "execution_count": 32,
   "id": "d4a7ab2f-7a69-4a66-8f6b-f8d80a34c917",
   "metadata": {},
   "outputs": [
    {
     "data": {
      "text/plain": [
       "Index(['Age', 'Workclass', 'fnlwgt', 'Education', 'Education-Num',\n",
       "       'Marital-Status', 'Occupation', 'Relationship', 'Race', 'Sex',\n",
       "       'Capital-Gain', 'Capital-Loss', 'Hours-Per-Week', 'Native-Country',\n",
       "       'Target'],\n",
       "      dtype='object')"
      ]
     },
     "execution_count": 32,
     "metadata": {},
     "output_type": "execute_result"
    }
   ],
   "source": [
    "df.columns #chcecking column names"
   ]
  },
  {
   "cell_type": "code",
   "execution_count": 33,
   "id": "d63755d3-aad7-492c-aad3-0dd7780329a2",
   "metadata": {},
   "outputs": [],
   "source": [
    "df.columns = [s.strip().replace(' ', '_') for s in df.columns] #replacing colums names which has spaces with the \"_\""
   ]
  },
  {
   "cell_type": "code",
   "execution_count": 34,
   "id": "60d5bd8f-1ecc-4a42-88bd-79baa7fabade",
   "metadata": {},
   "outputs": [
    {
     "data": {
      "text/plain": [
       "Age               0\n",
       "Workclass         0\n",
       "fnlwgt            0\n",
       "Education         0\n",
       "Education-Num     0\n",
       "Marital-Status    0\n",
       "Occupation        0\n",
       "Relationship      0\n",
       "Race              0\n",
       "Sex               0\n",
       "Capital-Gain      0\n",
       "Capital-Loss      0\n",
       "Hours-Per-Week    0\n",
       "Native-Country    0\n",
       "Target            0\n",
       "dtype: int64"
      ]
     },
     "execution_count": 34,
     "metadata": {},
     "output_type": "execute_result"
    }
   ],
   "source": [
    "df.isna().sum() #Checking for null values"
   ]
  },
  {
   "cell_type": "markdown",
   "id": "a45976a2-bc5f-438d-94f0-87945e312345",
   "metadata": {},
   "source": [
    "## From the above output, we could see that We do not have any NA values in dataset."
   ]
  },
  {
   "cell_type": "code",
   "execution_count": 35,
   "id": "7ee7213a-79d6-4690-8f6d-ef494a9316e0",
   "metadata": {},
   "outputs": [
    {
     "data": {
      "text/plain": [
       "Age                int64\n",
       "Workclass         object\n",
       "fnlwgt             int64\n",
       "Education         object\n",
       "Education-Num      int64\n",
       "Marital-Status    object\n",
       "Occupation        object\n",
       "Relationship      object\n",
       "Race              object\n",
       "Sex               object\n",
       "Capital-Gain       int64\n",
       "Capital-Loss       int64\n",
       "Hours-Per-Week     int64\n",
       "Native-Country    object\n",
       "Target            object\n",
       "dtype: object"
      ]
     },
     "execution_count": 35,
     "metadata": {},
     "output_type": "execute_result"
    }
   ],
   "source": [
    "df.dtypes"
   ]
  },
  {
   "cell_type": "code",
   "execution_count": 36,
   "id": "f8156005-67a4-4669-b272-5b1e676fd9f9",
   "metadata": {},
   "outputs": [],
   "source": [
    "for column in df.columns:\n",
    "    df[column] = df[column].replace(' ?', None)\n"
   ]
  },
  {
   "cell_type": "code",
   "execution_count": 37,
   "id": "2a2aed65-2157-476b-94dc-58bec2da24b5",
   "metadata": {},
   "outputs": [
    {
     "data": {
      "text/plain": [
       "Age                  0\n",
       "Workclass         2799\n",
       "fnlwgt               0\n",
       "Education            0\n",
       "Education-Num        0\n",
       "Marital-Status       0\n",
       "Occupation        2809\n",
       "Relationship         0\n",
       "Race                 0\n",
       "Sex                  0\n",
       "Capital-Gain         0\n",
       "Capital-Loss         0\n",
       "Hours-Per-Week       0\n",
       "Native-Country     857\n",
       "Target               0\n",
       "dtype: int64"
      ]
     },
     "execution_count": 37,
     "metadata": {},
     "output_type": "execute_result"
    }
   ],
   "source": [
    "df.isna().sum() #Checking for null values"
   ]
  },
  {
   "cell_type": "code",
   "execution_count": 38,
   "id": "8d45fb23-6959-452a-866d-c1e7d407a280",
   "metadata": {},
   "outputs": [],
   "source": [
    "# Write Explanaytion"
   ]
  },
  {
   "cell_type": "code",
   "execution_count": 39,
   "id": "6850aa6b-685e-4da5-89a3-76c013e93dd3",
   "metadata": {},
   "outputs": [],
   "source": [
    "\n",
    "df = df.dropna()"
   ]
  },
  {
   "cell_type": "code",
   "execution_count": 40,
   "id": "977762b5-0758-49af-9a26-b23229736db8",
   "metadata": {},
   "outputs": [
    {
     "data": {
      "text/plain": [
       "Age               0\n",
       "Workclass         0\n",
       "fnlwgt            0\n",
       "Education         0\n",
       "Education-Num     0\n",
       "Marital-Status    0\n",
       "Occupation        0\n",
       "Relationship      0\n",
       "Race              0\n",
       "Sex               0\n",
       "Capital-Gain      0\n",
       "Capital-Loss      0\n",
       "Hours-Per-Week    0\n",
       "Native-Country    0\n",
       "Target            0\n",
       "dtype: int64"
      ]
     },
     "execution_count": 40,
     "metadata": {},
     "output_type": "execute_result"
    }
   ],
   "source": [
    "df.isna().sum() #Checking for null values"
   ]
  },
  {
   "cell_type": "code",
   "execution_count": 62,
   "id": "7ea06297-580d-4c63-a207-f6dceb4a62c2",
   "metadata": {},
   "outputs": [],
   "source": [
    "Features=df.columns.tolist()[:-1]\n",
    "Target=df.columns.tolist()[-1]"
   ]
  },
  {
   "cell_type": "code",
   "execution_count": 27,
   "id": "2b730dc3-2c1b-4e52-a3a8-53f91c531504",
   "metadata": {},
   "outputs": [
    {
     "data": {
      "text/plain": [
       "['Target']"
      ]
     },
     "execution_count": 27,
     "metadata": {},
     "output_type": "execute_result"
    }
   ],
   "source": [
    "Target"
   ]
  },
  {
   "cell_type": "code",
   "execution_count": 51,
   "id": "25760ad1-a439-4c8a-b839-9b822f9526ea",
   "metadata": {},
   "outputs": [],
   "source": [
    "dtypes_dict = df.dtypes.to_dict()"
   ]
  },
  {
   "cell_type": "code",
   "execution_count": 56,
   "id": "d0281acd-d98f-4601-9c4c-7a9e312704d4",
   "metadata": {},
   "outputs": [
    {
     "data": {
      "text/plain": [
       "{'Age': dtype('int64'),\n",
       " 'Workclass': dtype('O'),\n",
       " 'fnlwgt': dtype('int64'),\n",
       " 'Education': dtype('O'),\n",
       " 'Education-Num': dtype('int64'),\n",
       " 'Marital-Status': dtype('O'),\n",
       " 'Occupation': dtype('O'),\n",
       " 'Relationship': dtype('O'),\n",
       " 'Race': dtype('O'),\n",
       " 'Sex': dtype('O'),\n",
       " 'Capital-Gain': dtype('int64'),\n",
       " 'Capital-Loss': dtype('int64'),\n",
       " 'Hours-Per-Week': dtype('int64'),\n",
       " 'Native-Country': dtype('O'),\n",
       " 'Target': dtype('O')}"
      ]
     },
     "execution_count": 56,
     "metadata": {},
     "output_type": "execute_result"
    }
   ],
   "source": [
    "dtypes_dict"
   ]
  },
  {
   "cell_type": "code",
   "execution_count": 59,
   "id": "0aa2c576-60c6-4316-89f0-0db4b16f3dd9",
   "metadata": {},
   "outputs": [
    {
     "data": {
      "text/plain": [
       "True"
      ]
     },
     "execution_count": 59,
     "metadata": {},
     "output_type": "execute_result"
    }
   ],
   "source": []
  },
  {
   "cell_type": "code",
   "execution_count": 60,
   "id": "3869b7da-3607-4031-ab04-652927c06001",
   "metadata": {},
   "outputs": [
    {
     "data": {
      "text/plain": [
       "Age                  int64\n",
       "Workclass         category\n",
       "fnlwgt               int64\n",
       "Education         category\n",
       "Education-Num        int64\n",
       "Marital-Status    category\n",
       "Occupation        category\n",
       "Relationship      category\n",
       "Race              category\n",
       "Sex               category\n",
       "Capital-Gain         int64\n",
       "Capital-Loss         int64\n",
       "Hours-Per-Week       int64\n",
       "Native-Country    category\n",
       "Target            category\n",
       "dtype: object"
      ]
     },
     "execution_count": 60,
     "metadata": {},
     "output_type": "execute_result"
    }
   ],
   "source": [
    "#lopping through every category.\n",
    "for i in df.columns:\n",
    "    if dtypes_dict[i]=='object':\n",
    "        df[i] = df[i].astype('category') #Casting from object class to category class.\n",
    "df.dtypes #Cheching all columns Data types."
   ]
  },
  {
   "cell_type": "code",
   "execution_count": 61,
   "id": "2da74ba5-7ecf-4352-a6e2-2a0a3ba98c75",
   "metadata": {},
   "outputs": [
    {
     "data": {
      "text/plain": [
       "Age                  int64\n",
       "Workclass          float64\n",
       "fnlwgt               int64\n",
       "Education          float64\n",
       "Education-Num        int64\n",
       "Marital-Status     float64\n",
       "Occupation         float64\n",
       "Relationship       float64\n",
       "Race               float64\n",
       "Sex                float64\n",
       "Capital-Gain         int64\n",
       "Capital-Loss         int64\n",
       "Hours-Per-Week       int64\n",
       "Native-Country     float64\n",
       "Target            category\n",
       "dtype: object"
      ]
     },
     "execution_count": 61,
     "metadata": {},
     "output_type": "execute_result"
    }
   ],
   "source": [
    "enc = OrdinalEncoder() #Creating instace of OrdinalEncoder.\n",
    "for i in Features:\n",
    "    if dtypes_dict[i]=='object':\n",
    "        df[i]=enc.fit_transform(df[[i]]) #Coverting to numerical.\n",
    "df.dtypes #Cheching all columns Data types."
   ]
  },
  {
   "cell_type": "code",
   "execution_count": 63,
   "id": "6b226369-4d7d-4cc1-83df-9fb1be61c95e",
   "metadata": {},
   "outputs": [
    {
     "data": {
      "text/plain": [
       "Age                 int64\n",
       "Workclass         float64\n",
       "fnlwgt              int64\n",
       "Education         float64\n",
       "Education-Num       int64\n",
       "Marital-Status    float64\n",
       "Occupation        float64\n",
       "Relationship      float64\n",
       "Race              float64\n",
       "Sex               float64\n",
       "Capital-Gain        int64\n",
       "Capital-Loss        int64\n",
       "Hours-Per-Week      int64\n",
       "Native-Country    float64\n",
       "Target              int32\n",
       "dtype: object"
      ]
     },
     "execution_count": 63,
     "metadata": {},
     "output_type": "execute_result"
    }
   ],
   "source": [
    "#LableEncoding for target variable\n",
    "enc = LabelEncoder() \n",
    "df[Target]=enc.fit_transform(df[Target])\n",
    "df.dtypes"
   ]
  },
  {
   "cell_type": "code",
   "execution_count": null,
   "id": "4ebd533d-80dc-486f-aa7e-3133b59da350",
   "metadata": {},
   "outputs": [],
   "source": [
    "# Splitting the data into training and validation sets"
   ]
  },
  {
   "cell_type": "code",
   "execution_count": 64,
   "id": "6cf01a0d-60eb-4d9b-87a8-8b3a5be4e165",
   "metadata": {},
   "outputs": [],
   "source": [
    "X=df[Features]\n",
    "y=df[Target]\n",
    "train_X, test_X, train_y, test_y = train_test_split(X, y, test_size=0.3, random_state=1)"
   ]
  },
  {
   "cell_type": "code",
   "execution_count": null,
   "id": "47d6c571-8294-4012-b4a6-b491f84a29b1",
   "metadata": {},
   "outputs": [],
   "source": [
    "# Data Balancing"
   ]
  },
  {
   "cell_type": "code",
   "execution_count": 67,
   "id": "cc6956d3-cdbf-423b-a858-1d8ea2ca1c3e",
   "metadata": {},
   "outputs": [
    {
     "data": {
      "text/plain": [
       "Target\n",
       "0    23784\n",
       "1     7871\n",
       "Name: count, dtype: int64"
      ]
     },
     "execution_count": 67,
     "metadata": {},
     "output_type": "execute_result"
    }
   ],
   "source": [
    "train_y.value_counts()"
   ]
  },
  {
   "cell_type": "code",
   "execution_count": 68,
   "id": "fccbc16d-6a24-4418-9455-b65e7eab8ee1",
   "metadata": {},
   "outputs": [
    {
     "data": {
      "text/plain": [
       "Target\n",
       "1    23784\n",
       "0    23784\n",
       "Name: count, dtype: int64"
      ]
     },
     "execution_count": 68,
     "metadata": {},
     "output_type": "execute_result"
    }
   ],
   "source": [
    "oversampler = RandomOverSampler(random_state=42)\n",
    "train_X_oversampled, train_y_oversampled = oversampler.fit_resample(train_X, train_y)\n",
    "\n",
    "train_y_oversampled.value_counts()\n"
   ]
  },
  {
   "cell_type": "code",
   "execution_count": 72,
   "id": "6a6bd7c1-d9d6-4925-9d57-391cc102aef3",
   "metadata": {},
   "outputs": [],
   "source": [
    "# create a standard scaler and fit it to the training set of predictors\n",
    "scaler = preprocessing.StandardScaler()\n",
    "scaler.fit(train_X_oversampled)\n",
    "\n",
    "# Transform the predictors of training, validation and newCustomer\n",
    "train_scaled_data= scaler.transform(train_X_oversampled)\n",
    "test_scaled_data = scaler.transform(test_X)"
   ]
  },
  {
   "cell_type": "code",
   "execution_count": 88,
   "id": "8b8445a3-d5b0-4a19-8c37-9505c3ee7837",
   "metadata": {},
   "outputs": [],
   "source": [
    "Algorithms = ['knn','DecisionTree','RandomForest','AdaBoostClassifier','GradientBoosting','XGBClassifier','LogisticRegression']\n",
    "Recall_values =[]"
   ]
  },
  {
   "cell_type": "code",
   "execution_count": 89,
   "id": "04d633ed-6955-4b0e-9432-3e6484d6c200",
   "metadata": {},
   "outputs": [],
   "source": [
    "#knn"
   ]
  },
  {
   "cell_type": "code",
   "execution_count": 90,
   "id": "418fe43a-73fc-47b6-99f4-346cdd773f8f",
   "metadata": {},
   "outputs": [
    {
     "name": "stdout",
     "output_type": "stream",
     "text": [
      "Using default parameters : Recall score:\n",
      "0.7675\n"
     ]
    }
   ],
   "source": [
    "knn = KNeighborsClassifier()\n",
    "_ = knn.fit(train_scaled_data, train_y_oversampled)\n",
    "y_pred = knn.predict(test_scaled_data)\n",
    "print(f\"Using default parameters : Recall score:\\n{recall_score(test_y,y_pred):.4f}\")#Checking model Recall score.\n",
    "Recall_values.append(recall_score(test_y,y_pred))"
   ]
  },
  {
   "cell_type": "code",
   "execution_count": 91,
   "id": "b2469e81-948e-418e-8f8d-c335c72d4ad3",
   "metadata": {},
   "outputs": [],
   "source": [
    "X=df[Features]\n",
    "y=df[Target]\n",
    "train_X, test_X, train_y, test_y = train_test_split(X, y, test_size=0.3, random_state=1)"
   ]
  },
  {
   "cell_type": "code",
   "execution_count": 92,
   "id": "428df0f8-757f-4542-9e88-d5edf3e2bbdc",
   "metadata": {},
   "outputs": [
    {
     "data": {
      "text/plain": [
       "Target\n",
       "1    23784\n",
       "0    23784\n",
       "Name: count, dtype: int64"
      ]
     },
     "execution_count": 92,
     "metadata": {},
     "output_type": "execute_result"
    }
   ],
   "source": [
    "oversampler = RandomOverSampler(random_state=42)\n",
    "train_X, train_y = oversampler.fit_resample(train_X, train_y)\n",
    "\n",
    "train_y.value_counts()"
   ]
  },
  {
   "cell_type": "code",
   "execution_count": 93,
   "id": "fb6f5c6e-63ab-4f72-9276-6dc8d2dfaf95",
   "metadata": {},
   "outputs": [
    {
     "name": "stdout",
     "output_type": "stream",
     "text": [
      "Using default parameters : Recall score:\n",
      "0.6203\n"
     ]
    }
   ],
   "source": [
    "#Decision Tree \n",
    "dtree=DecisionTreeClassifier(random_state=3)\n",
    "_ = dtree.fit(train_X, train_y)\n",
    "y_pred = dtree.predict(test_X)\n",
    "print(f\"Using default parameters : Recall score:\\n{recall_score(test_y,y_pred):.4f}\")#Checking model Recall score.\n",
    "Recall_values.append(recall_score(test_y,y_pred))"
   ]
  },
  {
   "cell_type": "code",
   "execution_count": 94,
   "id": "9d844aa6-f87b-4326-b8b3-c3c875acc13f",
   "metadata": {},
   "outputs": [
    {
     "name": "stdout",
     "output_type": "stream",
     "text": [
      "Using default parameters : Recall score:\n",
      "0.6886\n"
     ]
    }
   ],
   "source": [
    "#Random Forest\n",
    "rforest = RandomForestClassifier(random_state=1)\n",
    "_ = rforest.fit(train_X, train_y)\n",
    "y_pred = rforest.predict(test_X)\n",
    "print(f\"Using default parameters : Recall score:\\n{recall_score(test_y,y_pred):.4f}\")#Checking model Recall score.\n",
    "Recall_values.append(recall_score(test_y,y_pred))"
   ]
  },
  {
   "cell_type": "code",
   "execution_count": 95,
   "id": "f9f77572-86f1-4562-896c-287e7b3ce230",
   "metadata": {},
   "outputs": [
    {
     "name": "stdout",
     "output_type": "stream",
     "text": [
      "Using default parameters : Recall score:\n",
      "0.8457\n"
     ]
    }
   ],
   "source": [
    "#AdaBoostClassifier\n",
    "adaboost = AdaBoostClassifier(random_state=3)\n",
    "_ = adaboost.fit(train_X, train_y)\n",
    "y_pred = adaboost.predict(test_X)\n",
    "print(f\"Using default parameters : Recall score:\\n{recall_score(test_y,y_pred):.4f}\")#Checking model Recall score.\n",
    "Recall_values.append(recall_score(test_y,y_pred))"
   ]
  },
  {
   "cell_type": "code",
   "execution_count": 96,
   "id": "a49d22a1-d68c-4d7a-a362-b25801df50aa",
   "metadata": {},
   "outputs": [
    {
     "name": "stdout",
     "output_type": "stream",
     "text": [
      "Using default parameters : Recall score:\n",
      "0.8532\n"
     ]
    }
   ],
   "source": [
    "\n",
    "#GradientBoosting\n",
    "gboost = GradientBoostingClassifier(random_state=3)\n",
    "_ = gboost.fit(train_X, train_y)\n",
    "y_pred = gboost.predict(test_X)\n",
    "print(f\"Using default parameters : Recall score:\\n{recall_score(test_y,y_pred):.4f}\")#Checking model Recall score.\n",
    "Recall_values.append(recall_score(test_y,y_pred))"
   ]
  },
  {
   "cell_type": "code",
   "execution_count": 97,
   "id": "28e9010d-f1e2-4b59-a18e-db7a1cc2a72d",
   "metadata": {},
   "outputs": [
    {
     "name": "stdout",
     "output_type": "stream",
     "text": [
      "Using default parameters : Recall score:\n",
      "0.8460\n"
     ]
    }
   ],
   "source": [
    "#XGBClassifier\n",
    "xgboost = XGBClassifier(random_state=1)\n",
    "_ = xgboost.fit(train_X, train_y)\n",
    "y_pred = xgboost.predict(test_X)\n",
    "print(f\"Using default parameters : Recall score:\\n{recall_score(test_y,y_pred):.4f}\")#Checking model Recall score.\n",
    "Recall_values.append(recall_score(test_y,y_pred))"
   ]
  },
  {
   "cell_type": "code",
   "execution_count": 98,
   "id": "169facd7-475e-4ebb-8845-3c04121564dc",
   "metadata": {},
   "outputs": [
    {
     "name": "stdout",
     "output_type": "stream",
     "text": [
      "Using default parameters : Recall score:\n",
      "0.3153\n"
     ]
    }
   ],
   "source": [
    "logClassifier=LogisticRegression(random_state=1)\n",
    "\n",
    "_ = logClassifier.fit(train_X,train_y)\n",
    "y_pred = logClassifier.predict(test_X)\n",
    "print(f\"Using default parameters : Recall score:\\n{recall_score(test_y,y_pred):.4f}\")#Checking model Recall score.\n",
    "Recall_values.append(recall_score(test_y,y_pred))"
   ]
  },
  {
   "cell_type": "code",
   "execution_count": 102,
   "id": "bb522d18-c8bc-495b-b51a-a6958ed1347f",
   "metadata": {},
   "outputs": [
    {
     "data": {
      "text/html": [
       "<div>\n",
       "<style scoped>\n",
       "    .dataframe tbody tr th:only-of-type {\n",
       "        vertical-align: middle;\n",
       "    }\n",
       "\n",
       "    .dataframe tbody tr th {\n",
       "        vertical-align: top;\n",
       "    }\n",
       "\n",
       "    .dataframe thead th {\n",
       "        text-align: right;\n",
       "    }\n",
       "</style>\n",
       "<table border=\"1\" class=\"dataframe\">\n",
       "  <thead>\n",
       "    <tr style=\"text-align: right;\">\n",
       "      <th></th>\n",
       "      <th>Algorithm</th>\n",
       "      <th>Recall</th>\n",
       "    </tr>\n",
       "  </thead>\n",
       "  <tbody>\n",
       "    <tr>\n",
       "      <th>0</th>\n",
       "      <td>knn</td>\n",
       "      <td>0.767456</td>\n",
       "    </tr>\n",
       "    <tr>\n",
       "      <th>1</th>\n",
       "      <td>DecisionTree</td>\n",
       "      <td>0.620318</td>\n",
       "    </tr>\n",
       "    <tr>\n",
       "      <th>2</th>\n",
       "      <td>RandomForest</td>\n",
       "      <td>0.688642</td>\n",
       "    </tr>\n",
       "    <tr>\n",
       "      <th>3</th>\n",
       "      <td>AdaBoostClassifier</td>\n",
       "      <td>0.845670</td>\n",
       "    </tr>\n",
       "    <tr>\n",
       "      <th>4</th>\n",
       "      <td>GradientBoosting</td>\n",
       "      <td>0.853162</td>\n",
       "    </tr>\n",
       "    <tr>\n",
       "      <th>5</th>\n",
       "      <td>XGBClassifier</td>\n",
       "      <td>0.845969</td>\n",
       "    </tr>\n",
       "    <tr>\n",
       "      <th>6</th>\n",
       "      <td>LogisticRegression</td>\n",
       "      <td>0.315253</td>\n",
       "    </tr>\n",
       "  </tbody>\n",
       "</table>\n",
       "</div>"
      ],
      "text/plain": [
       "            Algorithm    Recall\n",
       "0                 knn  0.767456\n",
       "1        DecisionTree  0.620318\n",
       "2        RandomForest  0.688642\n",
       "3  AdaBoostClassifier  0.845670\n",
       "4    GradientBoosting  0.853162\n",
       "5       XGBClassifier  0.845969\n",
       "6  LogisticRegression  0.315253"
      ]
     },
     "execution_count": 102,
     "metadata": {},
     "output_type": "execute_result"
    }
   ],
   "source": [
    "score_df = pd.DataFrame(list(zip(Algorithms, Recall_values)),\n",
    "               columns =['Algorithm', 'Recall'])\n",
    "score_df\n"
   ]
  },
  {
   "cell_type": "code",
   "execution_count": 108,
   "id": "975d5c8a-c62a-4427-8970-a568a9bdece1",
   "metadata": {},
   "outputs": [
    {
     "data": {
      "image/png": "[encoded data removed]",
      "text/plain": [
       "<Figure size 1500x800 with 1 Axes>"
      ]
     },
     "metadata": {},
     "output_type": "display_data"
    }
   ],
   "source": [
    "sns.set(rc={'figure.figsize': (15, 8)})\n",
    "ax = sns.barplot(\n",
    "    x='Algorithm',\n",
    "    y='Recall',\n",
    "    data=score_df,\n",
    "\n",
    ")\n",
    "for i in ax.containers:\n",
    "    ax.bar_label(i, fmt='%.3f')\n",
    "\n",
    "plt.show()\n"
   ]
  },
  {
   "cell_type": "code",
   "execution_count": null,
   "id": "7f99ae33-210a-4083-959a-1725a53e4f9e",
   "metadata": {},
   "outputs": [],
   "source": []
  }
 ],
 "metadata": {
  "kernelspec": {
   "display_name": "Python 3 (ipykernel)",
   "language": "python",
   "name": "python3"
  },
  "language_info": {
   "codemirror_mode": {
    "name": "ipython",
    "version": 3
   },
   "file_extension": ".py",
   "mimetype": "text/x-python",
   "name": "python",
   "nbconvert_exporter": "python",
   "pygments_lexer": "ipython3",
   "version": "3.9.16"
  }
 },
 "nbformat": 4,
 "nbformat_minor": 5
}
